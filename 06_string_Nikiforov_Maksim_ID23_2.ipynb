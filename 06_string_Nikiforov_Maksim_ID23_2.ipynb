{
 "cells": [
  {
   "cell_type": "markdown",
   "metadata": {},
   "source": [
    "# Работа со строковыми значениями"
   ]
  },
  {
   "cell_type": "markdown",
   "metadata": {},
   "source": [
    "__Автор задач: Блохин Н.В. (NVBlokhin@fa.ru)__\n",
    "\n",
    "Материалы:\n",
    "* Макрушин С.В. Лекция \"Работа со строковыми значениям\"\n",
    "* https://pyformat.info/\n",
    "* https://docs.python.org/3/library/re.html\n",
    "    * https://docs.python.org/3/library/re.html#flags\n",
    "    * https://docs.python.org/3/library/re.html#functions\n",
    "* https://pythonru.com/primery/primery-primeneniya-regulyarnyh-vyrazheniy-v-python\n",
    "* https://kanoki.org/2019/11/12/how-to-use-regex-in-pandas/\n",
    "* https://realpython.com/nltk-nlp-python/"
   ]
  },
  {
   "cell_type": "code",
   "execution_count": 124,
   "metadata": {},
   "outputs": [],
   "source": [
    "import pandas as pd\n",
    "import xml.etree.ElementTree as ET\n",
    "import re\n",
    "import nltk\n",
    "from nltk.tokenize import word_tokenize\n",
    "from nltk import pos_tag"
   ]
  },
  {
   "cell_type": "markdown",
   "metadata": {},
   "source": [
    "## Задачи для совместного разбора"
   ]
  },
  {
   "cell_type": "markdown",
   "metadata": {},
   "source": [
    "1. Вывести на экран данные из словаря `obj` построчно в виде `k = v`, задав формат таким образом, чтобы знак равенства оказался на одной и той же позиции во всех строках. Строковые литералы обернуть в кавычки."
   ]
  },
  {
   "cell_type": "code",
   "execution_count": 10,
   "metadata": {},
   "outputs": [
    {
     "name": "stdout",
     "output_type": "stream",
     "text": [
      "home_page = https://github.com/pypa/sampleproject\n",
      "keywords = sample setuptools development\n",
      "license = MIT\n"
     ]
    }
   ],
   "source": [
    "obj = {\n",
    "    \"home_page\": \"https://github.com/pypa/sampleproject\",\n",
    "    \"keywords\": \"sample setuptools development\",\n",
    "    \"license\": \"MIT\",\n",
    "}\n",
    "print(f\"{list(obj.keys())[0]} = {obj['home_page']}\\n{list(obj.keys())[1]} = {obj['keywords']}\\n{list(obj.keys())[2]} = {obj['license']}\")"
   ]
  },
  {
   "cell_type": "markdown",
   "metadata": {},
   "source": [
    "2. Написать регулярное выражение,которое позволит найти номера групп студентов."
   ]
  },
  {
   "cell_type": "code",
   "execution_count": 4,
   "metadata": {},
   "outputs": [
    {
     "data": {
      "text/plain": [
       "0    Евгения гр.ПМ19-1\n",
       "1         Илья пм 20-4\n",
       "2            Анна 20-3\n",
       "dtype: object"
      ]
     },
     "execution_count": 4,
     "metadata": {},
     "output_type": "execute_result"
    }
   ],
   "source": [
    "obj = pd.Series([\"Евгения гр.ПМ19-1\", \"Илья пм 20-4\", \"Анна 20-3\"])\n",
    "obj"
   ]
  },
  {
   "cell_type": "markdown",
   "metadata": {},
   "source": [
    "3. Разбейте текст формулировки задачи 2 на слова."
   ]
  },
  {
   "cell_type": "markdown",
   "metadata": {},
   "source": [
    "## Лабораторная работа 6"
   ]
  },
  {
   "cell_type": "markdown",
   "metadata": {},
   "source": [
    "### Форматирование строк"
   ]
  },
  {
   "cell_type": "markdown",
   "metadata": {},
   "source": [
    "1\\. Загрузите данные из файла `recipes_sample.csv` (__ЛР2__) в виде `pd.DataFrame` `recipes` При помощи форматирования строк выведите информацию об id рецепта и времени выполнения 5 случайных рецептов в виде таблицы следующего вида:\n",
    "\n",
    "    \n",
    "    |      id      |  minutes  |\n",
    "    |--------------------------|\n",
    "    |    61178     |    65     |\n",
    "    |    202352    |    80     |\n",
    "    |    364322    |    150    |\n",
    "    |    26177     |    20     |\n",
    "    |    224785    |    35     |\n",
    "    \n",
    "Обратите внимание, что ширина столбцов заранее неизвестна и должна рассчитываться динамически, в зависимости от тех данных, которые были выбраны. "
   ]
  },
  {
   "cell_type": "code",
   "execution_count": 113,
   "metadata": {},
   "outputs": [
    {
     "name": "stdout",
     "output_type": "stream",
     "text": [
      "|    id    |  minutes  |\n",
      "|----------------------|\n",
      "|  14003   |     35    |\n",
      "|  268774  |    310    |\n",
      "|  333262  |    120    |\n",
      "|  217988  |     35    |\n",
      "|  112486  |     80    |\n"
     ]
    }
   ],
   "source": [
    "recipes = pd.read_csv('recipes_sample.csv')\n",
    "recipes_id_min = recipes.iloc[:, [1, 2]]\n",
    "recipes_sample = recipes_id_min.sample(5)\n",
    "max_lenght = 0\n",
    "for id_ in recipes_sample.iloc[:, 0]:\n",
    "    max_lenght = max(max_lenght, len(str(id_)))\n",
    "print(f\"|{'id' :^{max_lenght + 4}}| {'minutes' :^{max_lenght + 4}}|\\n|{'':-^{(2 * max_lenght) + 10}}|\")\n",
    "for i in range(5):\n",
    "    print(f\"|{list(recipes_sample.iloc[:, 0])[i]:^{max_lenght + 4}}| {list(recipes_sample.iloc[:, 1])[i]:^{max_lenght + 4}}|\")  "
   ]
  },
  {
   "cell_type": "markdown",
   "metadata": {},
   "source": [
    "2\\. Напишите функцию `show_info`, которая по данным о рецепте создает строку (в смысле объекта python) с описанием следующего вида:\n",
    "\n",
    "```\n",
    "\"Название Из Нескольких Слов\"\n",
    "\n",
    "1. Шаг 1\n",
    "2. Шаг 2\n",
    "----------\n",
    "Автор: contributor_id\n",
    "Среднее время приготовления: minutes минут\n",
    "```\n",
    "\n",
    "    \n",
    "Данные для создания строки получите из файлов `recipes_sample.csv` (__ЛР2__) и `steps_sample.xml` (__ЛР3__). \n",
    "Вызовите данную функцию для рецепта с id `170895` и выведите (через `print`) полученную строку на экран."
   ]
  },
  {
   "cell_type": "code",
   "execution_count": 13,
   "metadata": {},
   "outputs": [
    {
     "data": {
      "application/javascript": [
       "\n",
       "            setTimeout(function() {\n",
       "                var nbb_cell_id = 13;\n",
       "                var nbb_unformatted_code = \"assert (\\n    show_info(\\n    name=\\\"george s at the cove black bean soup\\\",\\n    steps=[\\n        \\\"clean the leeks and discard the dark green portions\\\",\\n        \\\"cut the leeks lengthwise then into one-inch pieces\\\",\\n        \\\"melt the butter in a medium skillet , med\\\",\\n    ],\\n    minutes=90,\\n    author_id=35193,\\n)\\n    ==  '\\\"George S At The Cove Black Bean Soup\\\"\\\\n\\\\n1. Clean the leeks and discard the dark green portions\\\\n2. Cut the leeks lengthwise then into one-inch pieces\\\\n3. Melt the butter in a medium skillet , med\\\\n----------\\\\n\\u0410\\u0432\\u0442\\u043e\\u0440: 35193\\\\n\\u0421\\u0440\\u0435\\u0434\\u043d\\u0435\\u0435 \\u0432\\u0440\\u0435\\u043c\\u044f \\u043f\\u0440\\u0438\\u0433\\u043e\\u0442\\u043e\\u0432\\u043b\\u0435\\u043d\\u0438\\u044f: 90 \\u043c\\u0438\\u043d\\u0443\\u0442\\\\n'\\n)\";\n",
       "                var nbb_formatted_code = \"assert (\\n    show_info(\\n        name=\\\"george s at the cove black bean soup\\\",\\n        steps=[\\n            \\\"clean the leeks and discard the dark green portions\\\",\\n            \\\"cut the leeks lengthwise then into one-inch pieces\\\",\\n            \\\"melt the butter in a medium skillet , med\\\",\\n        ],\\n        minutes=90,\\n        author_id=35193,\\n    )\\n    == '\\\"George S At The Cove Black Bean Soup\\\"\\\\n\\\\n1. Clean the leeks and discard the dark green portions\\\\n2. Cut the leeks lengthwise then into one-inch pieces\\\\n3. Melt the butter in a medium skillet , med\\\\n----------\\\\n\\u0410\\u0432\\u0442\\u043e\\u0440: 35193\\\\n\\u0421\\u0440\\u0435\\u0434\\u043d\\u0435\\u0435 \\u0432\\u0440\\u0435\\u043c\\u044f \\u043f\\u0440\\u0438\\u0433\\u043e\\u0442\\u043e\\u0432\\u043b\\u0435\\u043d\\u0438\\u044f: 90 \\u043c\\u0438\\u043d\\u0443\\u0442\\\\n'\\n)\";\n",
       "                var nbb_cells = Jupyter.notebook.get_cells();\n",
       "                for (var i = 0; i < nbb_cells.length; ++i) {\n",
       "                    if (nbb_cells[i].input_prompt_number == nbb_cell_id) {\n",
       "                        if (nbb_cells[i].get_text() == nbb_unformatted_code) {\n",
       "                             nbb_cells[i].set_text(nbb_formatted_code);\n",
       "                        }\n",
       "                        break;\n",
       "                    }\n",
       "                }\n",
       "            }, 500);\n",
       "            "
      ],
      "text/plain": [
       "<IPython.core.display.Javascript object>"
      ]
     },
     "metadata": {},
     "output_type": "display_data"
    }
   ],
   "source": [
    "assert (\n",
    "    show_info(\n",
    "        name=\"george s at the cove black bean soup\",\n",
    "        steps=[\n",
    "            \"clean the leeks and discard the dark green portions\",\n",
    "            \"cut the leeks lengthwise then into one-inch pieces\",\n",
    "            \"melt the butter in a medium skillet , med\",\n",
    "        ],\n",
    "        minutes=90,\n",
    "        author_id=35193,\n",
    "    )\n",
    "    == '\"George S At The Cove Black Bean Soup\"\\n\\n1. Clean the leeks and discard the dark green portions\\n2. Cut the leeks lengthwise then into one-inch pieces\\n3. Melt the butter in a medium skillet , med\\n----------\\nАвтор: 35193\\nСреднее время приготовления: 90 минут\\n'\n",
    ")"
   ]
  },
  {
   "cell_type": "markdown",
   "metadata": {},
   "source": [
    "## Работа с регулярными выражениями"
   ]
  },
  {
   "cell_type": "markdown",
   "metadata": {},
   "source": [
    "3\\. Напишите регулярное выражение, которое ищет следующий паттерн в строке: число (1 цифра или более), затем пробел, затем слова: hour или hours или minute или minutes. Произведите поиск по данному регулярному выражению в каждом шаге рецепта с id 25082. Выведите на экран все непустые результаты, найденные по данному шаблону."
   ]
  },
  {
   "cell_type": "code",
   "execution_count": 118,
   "metadata": {},
   "outputs": [
    {
     "name": "stdout",
     "output_type": "stream",
     "text": [
      "['20 minute']\n",
      "['10 minute']\n",
      "['2 hour']\n",
      "['10 minute']\n",
      "['20 minute', '30 minute']\n"
     ]
    }
   ],
   "source": [
    "tree = ET.parse(\"steps_sample.xml\")\n",
    "root = tree.getroot()\n",
    "\n",
    "recipe_id = 25082\n",
    "steps = []\n",
    "for recipe in root.findall('recipe'):\n",
    "    if recipe.find('id').text == str(recipe_id):\n",
    "        steps = [step.text.strip() for step in recipe.find('steps').findall('step')]\n",
    "\n",
    "pattern = r'\\d+\\s+(?:hour|hours|minute|minutes)'\n",
    "for step in steps:\n",
    "    matches = re.findall(pattern, step)\n",
    "    if matches:\n",
    "        print(matches)"
   ]
  },
  {
   "cell_type": "markdown",
   "metadata": {},
   "source": [
    "4\\. Напишите регулярное выражение, которое ищет шаблон вида \"this..., but\" _в начале строки_ . Между словом \"this\" и частью \", but\" может находиться произвольное число букв, цифр, знаков подчеркивания и пробелов. Никаких других символов вместо многоточия быть не может. Пробел между запятой и словом \"but\" может присутствовать или отсутствовать.\n",
    "\n",
    "Используя строковые методы `pd.Series`, выясните, для каких рецептов данный шаблон содержится в тексте описания. Выведите на экран количество таких рецептов и 3 примера подходящих описаний (текст описания должен быть виден на экране полностью)."
   ]
  },
  {
   "cell_type": "code",
   "execution_count": 120,
   "metadata": {},
   "outputs": [
    {
     "name": "stdout",
     "output_type": "stream",
     "text": [
      "this is a great meal eaten the same day ,but\n",
      "this was adapted from a recipe i found on the net, but\n",
      "this is kind of similar to some of the other versions out there, but\n",
      "this is a moist, but\n",
      "this pie does not have very many ingredients in it, but\n"
     ]
    }
   ],
   "source": [
    "pattern = r'^this([\\w\\d\\s]+),\\s?but'\n",
    "counter = 0\n",
    "for desc in recipes['description']:\n",
    "    if isinstance(desc, str):\n",
    "        match = re.search(pattern, desc)\n",
    "        if match and counter != 5:\n",
    "            print(match.group())\n",
    "            counter += 1\n",
    "#если убрать счетчик counter из условия, выдаст все совпадения"
   ]
  },
  {
   "cell_type": "markdown",
   "metadata": {},
   "source": [
    "5\\. В текстах шагов рецептов обыкновенные дроби имеют вид \"a / b\". Используя регулярные выражения, уберите в тексте шагов рецепта с id 72367 пробелы до и после символа дроби. Выведите на экран шаги этого рецепта после их изменения."
   ]
  },
  {
   "cell_type": "code",
   "execution_count": 121,
   "metadata": {},
   "outputs": [
    {
     "name": "stdout",
     "output_type": "stream",
     "text": [
      "mix butter , flour , 11/3 c\n",
      "sugar and 1-11/4 t\n",
      "vanilla\n",
      "press into greased 9\" springform pan\n",
      "mix cream cheese , 11/4 c\n",
      "sugar , eggs and 11/2 t\n",
      "vanilla beating until fluffy\n",
      "pour over dough\n",
      "combine apples , 11/3 c\n",
      "sugar and cinnamon\n",
      "arrange on top of cream cheese mixture and sprinkle with almonds\n",
      "bake at 350 for 45-55 minutes , or until tester comes out clean\n"
     ]
    }
   ],
   "source": [
    "recipe_id = 72367\n",
    "steps = []\n",
    "for recipe in root.findall('recipe'):\n",
    "    if recipe.find('id').text == str(recipe_id):\n",
    "        steps = [step.text.strip() for step in recipe.find('steps').findall('step')]\n",
    "\n",
    "pattern = r'(\\d+)\\s?/\\s?(\\d+)'\n",
    "i = -1\n",
    "for step in steps:\n",
    "    i += 1\n",
    "    match = re.search(pattern, step)\n",
    "    if match:\n",
    "        new_s = step[:match.start() + 1] + match.group(1) + '/' + match.group(2) + step[match.end():]\n",
    "        steps[i] = new_s\n",
    "\n",
    "for step in steps:\n",
    "    print(step)"
   ]
  },
  {
   "cell_type": "markdown",
   "metadata": {},
   "source": [
    "### Сегментация текста"
   ]
  },
  {
   "cell_type": "markdown",
   "metadata": {},
   "source": [
    "6\\. Разбейте тексты шагов рецептов на слова при помощи пакета `nltk`. Посчитайте и выведите на экран кол-во уникальных слов среди всех рецептов. Словом называется любая последовательность алфавитных символов (для проверки можно воспользоваться `str.isalpha`). При подсчете количества уникальных слов не учитывайте регистр."
   ]
  },
  {
   "cell_type": "code",
   "execution_count": 125,
   "metadata": {},
   "outputs": [
    {
     "name": "stdout",
     "output_type": "stream",
     "text": [
      "Количество уникальных слов: 14926\n"
     ]
    }
   ],
   "source": [
    "def tokenize_to_words(s):\n",
    "    words = word_tokenize(s.lower())\n",
    "    words = [word for word in words if word.isalpha()]\n",
    "    return words\n",
    "\n",
    "\n",
    "tree = ET.parse(\"steps_sample.xml\")\n",
    "root = tree.getroot()\n",
    "\n",
    "all_words = []\n",
    "for recipe in root.findall('recipe'):\n",
    "    steps = [step.text.strip() for step in recipe.find('steps').findall('step')]\n",
    "    for step in steps:\n",
    "        all_words.extend(tokenize_to_words(step))\n",
    "\n",
    "unique_words = set(all_words)\n",
    "\n",
    "print(\"Количество уникальных слов:\", len(unique_words))"
   ]
  },
  {
   "cell_type": "markdown",
   "metadata": {},
   "source": [
    "7\\. Разбейте описания рецептов из `recipes` на предложения при помощи пакета `nltk`. Найдите 5 самых длинных описаний (по количеству _предложений_) рецептов в датасете и выведите строки фрейма, соответствующие этим рецептами, в порядке убывания длины."
   ]
  },
  {
   "cell_type": "code",
   "execution_count": null,
   "metadata": {},
   "outputs": [],
   "source": []
  },
  {
   "cell_type": "markdown",
   "metadata": {},
   "source": [
    "8\\. Напишите функцию, которая для заданного предложения выводит информацию о частях речи слов, входящих в предложение, в следующем виде:\n",
    "```\n",
    "PRP   VBD   DT      NNS     CC   VBD      NNS        RB   \n",
    " I  omitted the raspberries and added strawberries instead\n",
    "``` \n",
    "Для определения части речи слова можно воспользоваться `nltk.pos_tag`.\n",
    "\n",
    "Проверьте работоспособность функции на названии рецепта с id 241106.\n",
    "\n",
    "Обратите внимание, что часть речи должна находиться ровно посередине над соотвествующим словом, а между самими словами должен быть ровно один пробел.\n"
   ]
  },
  {
   "cell_type": "code",
   "execution_count": 127,
   "metadata": {},
   "outputs": [
    {
     "name": "stdout",
     "output_type": "stream",
     "text": [
      "JJ   NNS  IN   NNS  VBP  JJ   CC   JJ   NNS  \n",
      "eggplant steaks with chickpeas feta cheese and black olives \n"
     ]
    }
   ],
   "source": [
    "def pos_tag_sentence(sentence):\n",
    "    tokens = word_tokenize(sentence)\n",
    "    pos_tags = pos_tag(tokens)\n",
    "    return pos_tags\n",
    "\n",
    "try:\n",
    "    pos_tag_sentence('')\n",
    "except LookupError:\n",
    "    import nltk\n",
    "    nltk.download('averaged_perceptron_tagger')\n",
    "\n",
    "def process(pos_tags):\n",
    "    output = \"\"\n",
    "    for token, pos_tag in pos_tags:\n",
    "        output += f\"{pos_tag:<5}\"\n",
    "    output += \"\\n\"\n",
    "    \n",
    "    for token, _ in pos_tags:\n",
    "        output += f\"{token} \"\n",
    "    \n",
    "    return output\n",
    "\n",
    "\n",
    "recipe_id = 241106\n",
    "recipes = pd.read_csv('recipes_sample.csv', header=0)\n",
    "recipe_data = recipes[recipes['id'] == recipe_id]\n",
    "\n",
    "print(process(pos_tag_sentence(recipe_data['name'].values[0])))"
   ]
  },
  {
   "cell_type": "code",
   "execution_count": null,
   "metadata": {},
   "outputs": [],
   "source": []
  }
 ],
 "metadata": {
  "kernelspec": {
   "display_name": "Python 3 (ipykernel)",
   "language": "python",
   "name": "python3"
  },
  "language_info": {
   "codemirror_mode": {
    "name": "ipython",
    "version": 3
   },
   "file_extension": ".py",
   "mimetype": "text/x-python",
   "name": "python",
   "nbconvert_exporter": "python",
   "pygments_lexer": "ipython3",
   "version": "3.11.4"
  }
 },
 "nbformat": 4,
 "nbformat_minor": 4
}
